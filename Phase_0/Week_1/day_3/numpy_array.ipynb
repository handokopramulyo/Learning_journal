{
  "cells": [
    {
      "cell_type": "markdown",
      "metadata": {
        "id": "Xr0Nb4JtStrL"
      },
      "source": [
        "# Latihan Numpy \n"
      ]
    },
    {
      "cell_type": "markdown",
      "metadata": {},
      "source": [
        "### Introduction"
      ]
    },
    {
      "cell_type": "code",
      "execution_count": 148,
      "metadata": {
        "id": "N74oigd6StrN"
      },
      "outputs": [],
      "source": [
        "#Import Library\n",
        "import numpy as np\n",
        "# !pip install numpy (in case error karena numpy belum ke install)"
      ]
    },
    {
      "cell_type": "code",
      "execution_count": 10,
      "metadata": {
        "id": "LcXuj-sjStrN"
      },
      "outputs": [
        {
          "name": "stdout",
          "output_type": "stream",
          "text": [
            "[1, 2, 3, 4]\n",
            "<class 'list'>\n",
            "[1 2 3 4]\n",
            "<class 'numpy.ndarray'>\n",
            "[1 5 7 9] <class 'numpy.ndarray'>\n",
            "[ 1  2  3  4  5  6  7  8  9 10 11 12 13 14 15 16 17 18 19 20]\n",
            "<class 'numpy.ndarray'>\n"
          ]
        }
      ],
      "source": [
        "# Perubahan dari List ke Array\n",
        "# np.array()\n",
        "\n",
        "a = [1,2,3,4]\n",
        "print(a)\n",
        "print(type(a))\n",
        "\n",
        "b = np.array(a)\n",
        "print(b)\n",
        "print(type(b))\n",
        "\n",
        "c = np.array([1,5,7,9])\n",
        "print(c, type(c))\n",
        "\n",
        "# Membuat list menggunakan arrange\n",
        "d = np.arange(1,21) # sudah terdefine jadi array 1 dimensi (baris only)\n",
        "print(d, type(d))\n"
      ]
    },
    {
      "cell_type": "code",
      "execution_count": 15,
      "metadata": {
        "id": "IiyQ3xu1StrO"
      },
      "outputs": [
        {
          "name": "stdout",
          "output_type": "stream",
          "text": [
            "[[1 2 3]\n",
            " [4 5 6]\n",
            " [3 2 5]] <class 'numpy.ndarray'>\n",
            "2\n"
          ]
        }
      ],
      "source": [
        "# Membuat Array 2D\n",
        "# Lihat seberapa banyak kurung siku di awal untuk menentukan jumlah dimensi\n",
        "\n",
        "e = [\n",
        "    [1,2,3], # jangan lupa kasih koma\n",
        "    [4,5,6],\n",
        "    [3,2,5]\n",
        "]\n",
        "\n",
        "e = np.array(e)\n",
        "print(e,type(e))\n",
        "print(e.ndim) # cara ngecek jumlah dimensi"
      ]
    },
    {
      "cell_type": "code",
      "execution_count": 17,
      "metadata": {},
      "outputs": [
        {
          "name": "stdout",
          "output_type": "stream",
          "text": [
            "[[[1 2 3 4]\n",
            "  [2 3 4 5]]\n",
            "\n",
            " [[1 2 3 4]\n",
            "  [2 3 4 5]]] <class 'numpy.ndarray'>\n",
            "3\n"
          ]
        }
      ],
      "source": [
        "# Membuat Array 3D\n",
        "\n",
        "f = [\n",
        "    [[1,2,3,4],\n",
        "     [2,3,4,5]],\n",
        "\n",
        "    [[1,2,3,4],\n",
        "     [2,3,4,5]]\n",
        "]\n",
        "\n",
        "f = np.array(f)\n",
        "print(f,type(f))\n",
        "print(f.ndim)"
      ]
    },
    {
      "cell_type": "code",
      "execution_count": 19,
      "metadata": {
        "id": "RalHyzvtStrO"
      },
      "outputs": [
        {
          "name": "stdout",
          "output_type": "stream",
          "text": [
            "(3, 3)\n",
            "(2, 2, 4)\n"
          ]
        }
      ],
      "source": [
        "#Menentukan ukuran (dimensi) suatu array\n",
        "#.shape\n",
        "\n",
        "print(e.shape)\n",
        "print(f.shape)"
      ]
    },
    {
      "cell_type": "code",
      "execution_count": 21,
      "metadata": {
        "id": "UTU2IlJzStrO"
      },
      "outputs": [
        {
          "name": "stdout",
          "output_type": "stream",
          "text": [
            "9 16\n"
          ]
        }
      ],
      "source": [
        "#Menentukan jumlah total elemen (nilai di matrix) suatu array\n",
        "#.size\n",
        "\n",
        "print(e.size, f.size)"
      ]
    },
    {
      "cell_type": "code",
      "execution_count": 39,
      "metadata": {
        "id": "jPtDArHbStrO"
      },
      "outputs": [
        {
          "name": "stdout",
          "output_type": "stream",
          "text": [
            "[1 2 3 4]\n",
            "[1 2 3]\n",
            "[1 2 3 4]\n",
            "-----\n",
            "[4 3 2 1]\n"
          ]
        }
      ],
      "source": [
        "#Indexing & Slicing\n",
        "print(b)\n",
        "print(b[0:3:1]) # 0:3 ini index selalu dikurang 1\n",
        "print(b[::1])\n",
        "# [] index pemulai... index akhir -1... jumlah step\n",
        "\n",
        "print('-'*5)\n",
        "#Mengubah urutan array 1D dari belakang ke depan (Descending)\n",
        "print(b[::-1])\n"
      ]
    },
    {
      "cell_type": "markdown",
      "metadata": {
        "id": "Y4maqHdYStrP"
      },
      "source": [
        "### NOMOR 1\n",
        "\n",
        "Buatlah sebuah array seperti dibawah ini dan tambahkan setiap elemennya dengan `1`.\n",
        "\n",
        "```\n",
        "a = [10, 20, 30, 40, 50]\n",
        "```"
      ]
    },
    {
      "cell_type": "code",
      "execution_count": 42,
      "metadata": {
        "id": "5uBSPBriStrP"
      },
      "outputs": [
        {
          "data": {
            "text/plain": [
              "array([11, 21, 31, 41, 51])"
            ]
          },
          "execution_count": 42,
          "metadata": {},
          "output_type": "execute_result"
        }
      ],
      "source": [
        "#Cara 1 : Menambahkan dengan bil. skalar\n",
        "a + 1"
      ]
    },
    {
      "cell_type": "code",
      "execution_count": 48,
      "metadata": {
        "id": "OcsPmzFoStrQ"
      },
      "outputs": [
        {
          "name": "stdout",
          "output_type": "stream",
          "text": [
            "[1 1 1]\n",
            "[11 21 31 41 51]\n",
            "[0 0 0 0 0]\n"
          ]
        }
      ],
      "source": [
        "# Cara 2 : Menambahkan dengan \"Special Array\"\n",
        "#np.ones()\n",
        "print(np.ones(3, dtype=int))\n",
        "print(a+np.ones(5, dtype=int))\n",
        "\n",
        "print(np.zeros(5, dtype=int))"
      ]
    },
    {
      "cell_type": "markdown",
      "metadata": {
        "id": "X9iKMSEuStrQ"
      },
      "source": [
        "### NOMOR 2\n",
        "\n",
        "Buatlah sebuah array seperti dibawah ini dan keluarkan element yang bernilai negatif.\n",
        "\n",
        "```\n",
        "b = [-3, 0, -2, 1, 2, 3, -4]\n",
        "```"
      ]
    },
    {
      "cell_type": "code",
      "execution_count": 59,
      "metadata": {
        "id": "sgDBz5GEStrQ"
      },
      "outputs": [
        {
          "name": "stdout",
          "output_type": "stream",
          "text": [
            "[-3  0 -2  1  2  3 -4]\n"
          ]
        }
      ],
      "source": [
        "#Buat array\n",
        "b = [-3, 0, -2, 1, 2, 3, -4]\n",
        "b = np.array(b)\n",
        "print(b)"
      ]
    },
    {
      "cell_type": "code",
      "execution_count": 60,
      "metadata": {
        "id": "Olti1GphStrQ"
      },
      "outputs": [
        {
          "data": {
            "text/plain": [
              "array([-3, -2, -4])"
            ]
          },
          "execution_count": 60,
          "metadata": {},
          "output_type": "execute_result"
        }
      ],
      "source": [
        "# Jika `b < 0` maka hanya akan dilakukan pengecekan apakah element di `b` kurang dari 0 atau tidak\n",
        "b[b<0]"
      ]
    },
    {
      "cell_type": "code",
      "execution_count": null,
      "metadata": {
        "id": "k4vjHDtdStrS"
      },
      "outputs": [],
      "source": [
        "# Jika `b[b < 0]` maka element di `b` kurang dari 0 akan ditampilkan\n",
        "\n"
      ]
    },
    {
      "cell_type": "markdown",
      "metadata": {
        "id": "5SWTZzROStrS"
      },
      "source": [
        "### NOMOR 3\n",
        "\n",
        "Buatlah sebuah array seperti dibawah ini. Keluarkan element yang bernilai positif kemudian urutkan dari nilai yang kecil ke besar\n",
        "\n",
        "```\n",
        "c = [10, -8, 4, 5, -41, 7, 5, -4]\n",
        "```"
      ]
    },
    {
      "cell_type": "code",
      "execution_count": 75,
      "metadata": {
        "id": "CZpf1aoCStrS"
      },
      "outputs": [],
      "source": [
        "#Buat array\n",
        "\n",
        "c = [10, -8, 4, 5, -41, 7, 5, -4]"
      ]
    },
    {
      "cell_type": "code",
      "execution_count": 110,
      "metadata": {
        "id": "uaRaCD6bStrS"
      },
      "outputs": [
        {
          "name": "stdout",
          "output_type": "stream",
          "text": [
            "[ 4  5  5  7 10]\n"
          ]
        },
        {
          "data": {
            "text/plain": [
              "array([ 4,  5,  5,  7, 10])"
            ]
          },
          "execution_count": 110,
          "metadata": {},
          "output_type": "execute_result"
        }
      ],
      "source": [
        "# Sort elemen dari bilangan kecil ke besar\n",
        "#np.sort(nama_array)\n",
        "\n",
        "# Sort elemen dari bilangan kecil ke besar\n",
        "#np.sort(nama_array)\n",
        "\n",
        "# c = np.sort(c[c>0])\n",
        "# print(c)\n",
        "\n",
        "c = np.sort(c) # dari kecil ke besar\n",
        "print(c)\n",
        "c[c>0]\n"
      ]
    },
    {
      "cell_type": "code",
      "execution_count": 73,
      "metadata": {
        "id": "_PwTl80FStrS"
      },
      "outputs": [
        {
          "data": {
            "text/plain": [
              "array([ 10,   7,   5,   5,   4,  -4,  -8, -41])"
            ]
          },
          "execution_count": 73,
          "metadata": {},
          "output_type": "execute_result"
        }
      ],
      "source": [
        "# Sort elemen dari bilangan besar ke kecil\n",
        "#sort dan Slicing dengan step = -1\n",
        "\n",
        "c[::-1]"
      ]
    },
    {
      "cell_type": "markdown",
      "metadata": {
        "id": "hMhLhJ0yStrS"
      },
      "source": [
        "### NOMOR 4\n",
        "\n",
        "Buatlah array seperti dibawah ini kemudian tumpukkan secara horizontal dan vertikal satu sama lain.\n",
        "\n",
        "```\n",
        "d = [1, 2, 3, 4, 5]\n",
        "e = [6, 7, 8, 9, 10]\n",
        "```"
      ]
    },
    {
      "cell_type": "code",
      "execution_count": 78,
      "metadata": {
        "id": "aNtlrQrkStrS"
      },
      "outputs": [
        {
          "name": "stdout",
          "output_type": "stream",
          "text": [
            "[1 2 3 4 5]\n",
            "[ 6  7  8  9 10]\n"
          ]
        }
      ],
      "source": [
        "#Buat array\n",
        "d = [1, 2, 3, 4, 5]\n",
        "e = [6, 7, 8, 9, 10]\n",
        "\n",
        "d = np.array(d)\n",
        "print(d)\n",
        "e = np.array(e)\n",
        "print(e)\n"
      ]
    },
    {
      "cell_type": "code",
      "execution_count": 80,
      "metadata": {
        "id": "olDl8UWJStrT"
      },
      "outputs": [
        {
          "name": "stdout",
          "output_type": "stream",
          "text": [
            "[ 1  2  3  4  5  6  7  8  9 10]\n",
            "[[ 1  2  3  4  5]\n",
            " [ 6  7  8  9 10]]\n"
          ]
        }
      ],
      "source": [
        "#Stacking Horizontal -> np.hstack((array1,array2))\n",
        "#Stacking Vertikal -> np.vstack((array1,array2))\n",
        "\n",
        "print(np.hstack((d,e)))\n",
        "print(np.vstack((d,e)))"
      ]
    },
    {
      "cell_type": "markdown",
      "metadata": {
        "id": "kwXOi6azStrT"
      },
      "source": [
        "### NOMOR 5\n",
        "\n",
        "Buatlah dua buah array seperti dibawah ini yang berasal dari 1 deklarasi variabel yang sama. Kemudian, kalikan array pertama dengan `2` dan kalikan array kedua dengan `3`.\n",
        "\n",
        "```\n",
        "f = [10, 20, 30, 40, 50]\n",
        "```\n",
        "\n",
        "Ekspektasi output : \n",
        "```\n",
        "hasil perkalian dengan 2 -> [20, 40, 60, 80, 100] \n",
        "hasil perkalian dengan 3 -> [30, 60, 90, 120, 150]\n",
        "```"
      ]
    },
    {
      "cell_type": "code",
      "execution_count": 81,
      "metadata": {
        "id": "fZbDW4hIStrT"
      },
      "outputs": [
        {
          "name": "stdout",
          "output_type": "stream",
          "text": [
            "[10 20 30 40 50]\n"
          ]
        }
      ],
      "source": [
        "#Buat array f\n",
        "\n",
        "f = [10, 20, 30, 40, 50]\n",
        "f = np.array(f)\n",
        "print(f)"
      ]
    },
    {
      "cell_type": "code",
      "execution_count": 84,
      "metadata": {
        "id": "v1NLzZPzStrT"
      },
      "outputs": [
        {
          "data": {
            "text/plain": [
              "array([10, 20, 30, 40, 50])"
            ]
          },
          "execution_count": 84,
          "metadata": {},
          "output_type": "execute_result"
        }
      ],
      "source": [
        "#Copy array f ke variabel baru (alternatif tuk buat variable baru: pake copy)\n",
        "f2 = f.copy()\n",
        "f2"
      ]
    },
    {
      "cell_type": "code",
      "execution_count": 85,
      "metadata": {
        "id": "BUvr9nsaStrT"
      },
      "outputs": [
        {
          "name": "stdout",
          "output_type": "stream",
          "text": [
            "[ 20  40  60  80 100]\n",
            "[ 30  60  90 120 150]\n"
          ]
        }
      ],
      "source": [
        "#Kalikan masing2 variabel\n",
        "print(f*2)\n",
        "print(f2*3)"
      ]
    },
    {
      "cell_type": "markdown",
      "metadata": {
        "id": "kooKJdgKStrT"
      },
      "source": [
        "### NOMOR 6\n",
        "\n",
        "Buatlah sebuah array seperti dibawah ini dan hitung total jumlahnya.\n",
        "\n",
        "```\n",
        "h = [1, 2, 3, 4, 5]\n",
        "j = [ [1, 2, 3],\n",
        "      [4, 5, 6]]\n",
        "```\n",
        "\n",
        "Ekspektasi output :\n",
        "\n",
        "```\n",
        "total nilai h = 15\n",
        "total nilai j berdasarkan penjumlahan baris = [6, 15]\n",
        "total nilai j berdasarkan penjumlahan kolom = [5, 7, 9]\n",
        "```"
      ]
    },
    {
      "cell_type": "code",
      "execution_count": 88,
      "metadata": {
        "id": "6IASK2J7StrT"
      },
      "outputs": [
        {
          "name": "stdout",
          "output_type": "stream",
          "text": [
            "[1 2 3 4 5]\n",
            "[[1 2 3]\n",
            " [4 5 6]]\n"
          ]
        }
      ],
      "source": [
        "#Buat array\n",
        "\n",
        "h = [1, 2, 3, 4, 5]\n",
        "j = [ [1, 2, 3],\n",
        "      [4, 5, 6]]\n",
        "\n",
        "h = np.array(h)\n",
        "print(h)\n",
        "j = np.array(j)\n",
        "print(j)"
      ]
    },
    {
      "cell_type": "code",
      "execution_count": 98,
      "metadata": {
        "id": "tzMN15hnStrT"
      },
      "outputs": [
        {
          "data": {
            "text/plain": [
              "15"
            ]
          },
          "execution_count": 98,
          "metadata": {},
          "output_type": "execute_result"
        }
      ],
      "source": [
        "#jumlahkan array h\n",
        "#.sum()\n",
        "h.sum()\n"
      ]
    },
    {
      "cell_type": "code",
      "execution_count": 96,
      "metadata": {
        "id": "uuRHyBVNStrT"
      },
      "outputs": [
        {
          "name": "stdout",
          "output_type": "stream",
          "text": [
            "[[1 2 3]\n",
            " [4 5 6]]\n"
          ]
        },
        {
          "data": {
            "text/plain": [
              "21"
            ]
          },
          "execution_count": 96,
          "metadata": {},
          "output_type": "execute_result"
        }
      ],
      "source": [
        "#Penjumlahan berdasarkan baris\n",
        "#baris -> axis = 1\n",
        "# j.sum(axis = 1)\n",
        "print(j)\n",
        "j.sum()\n"
      ]
    },
    {
      "cell_type": "code",
      "execution_count": null,
      "metadata": {
        "id": "mfjnRGyqStrT"
      },
      "outputs": [],
      "source": [
        "#Penjumlahan berdasarkan kolom\n",
        "# kolom -> axis = 0\n",
        "\n",
        "\n"
      ]
    },
    {
      "cell_type": "markdown",
      "metadata": {
        "id": "GDM5JDt8StrT"
      },
      "source": [
        "### NOMOR 7\n",
        "\n",
        "Buatlah sebuah array seperti dibawah ini dan cari nilai `min`, `max`, dan `sum` per baris dan per kolom.\n",
        "\n",
        "```\n",
        "k = [ [1, 2, 3],\n",
        "      [4, 5, 6]]\n",
        "```"
      ]
    },
    {
      "cell_type": "code",
      "execution_count": 99,
      "metadata": {
        "id": "x7uuwTJaStrT"
      },
      "outputs": [
        {
          "name": "stdout",
          "output_type": "stream",
          "text": [
            "[[1 2 3]\n",
            " [4 5 6]]\n"
          ]
        }
      ],
      "source": [
        "#Buat array\n",
        "k = [ [1, 2, 3],\n",
        "      [4, 5, 6]]\n",
        "\n",
        "k = np.array(k)\n",
        "print(k)"
      ]
    },
    {
      "cell_type": "code",
      "execution_count": 104,
      "metadata": {
        "id": "J0cVGEshStrU"
      },
      "outputs": [
        {
          "name": "stdout",
          "output_type": "stream",
          "text": [
            "[1 4]\n",
            "[3 6]\n",
            "[ 6 15]\n",
            "[1 2 3]\n",
            "[4 5 6]\n",
            "[5 7 9]\n"
          ]
        }
      ],
      "source": [
        "#Mencari nilai minimum -> .min()\n",
        "#Mencari nilai maximum - > .max()\n",
        "#Mencari nilai total -> .sum()\n",
        "\n",
        "print(k.min(axis = 1))\n",
        "print(k.max(axis = 1))\n",
        "print(k.sum(axis = 1))\n",
        "\n",
        "print(k.min(axis = 0))\n",
        "print(k.max(axis = 0))\n",
        "print(k.sum(axis = 0))\n"
      ]
    },
    {
      "cell_type": "markdown",
      "metadata": {
        "id": "Xijm3_VnStrU"
      },
      "source": [
        "### NOMOR 8\n",
        "\n",
        "Buatlah sebuah array seperti dibawah ini dan cari baris kedua dan kolom kedua.\n",
        "\n",
        "```\n",
        "n = [ [1, 2, 3], \n",
        "      [4, 5, 6],\n",
        "      [7, 8, 9]]\n",
        "```"
      ]
    },
    {
      "cell_type": "code",
      "execution_count": 106,
      "metadata": {
        "id": "HiVCZ9ggStrU"
      },
      "outputs": [
        {
          "name": "stdout",
          "output_type": "stream",
          "text": [
            "[[1 2 3]\n",
            " [4 5 6]\n",
            " [7 8 9]]\n"
          ]
        }
      ],
      "source": [
        "#Buat array\n",
        "\n",
        "n = [ [1, 2, 3], \n",
        "      [4, 5, 6],\n",
        "      [7, 8, 9]]\n",
        "\n",
        "n = np.array(n)\n",
        "print(n)\n"
      ]
    },
    {
      "cell_type": "code",
      "execution_count": 112,
      "metadata": {
        "id": "Cc6NS5JIStrU"
      },
      "outputs": [
        {
          "data": {
            "text/plain": [
              "9"
            ]
          },
          "execution_count": 112,
          "metadata": {},
          "output_type": "execute_result"
        }
      ],
      "source": [
        "#Get baris&Kolom\n",
        "# nama_array[baris,kolom] === matrix sumbu 0,0 nya ada dipojok atas kiri (baris ke kolom)\n",
        "n[2,2]"
      ]
    },
    {
      "cell_type": "code",
      "execution_count": 115,
      "metadata": {
        "id": "59EG_KBmStrU"
      },
      "outputs": [
        {
          "data": {
            "text/plain": [
              "array([4, 5])"
            ]
          },
          "execution_count": 115,
          "metadata": {},
          "output_type": "execute_result"
        }
      ],
      "source": [
        "# Get baris kedua\n",
        "# Bisa menggunakan n[1] atau n[1, :] --> slicing\n",
        "n[1,0:2]\n"
      ]
    },
    {
      "cell_type": "code",
      "execution_count": 117,
      "metadata": {
        "id": "6l9ZGnzcStrU"
      },
      "outputs": [
        {
          "data": {
            "text/plain": [
              "array([[1],\n",
              "       [4],\n",
              "       [7]])"
            ]
          },
          "execution_count": 117,
          "metadata": {},
          "output_type": "execute_result"
        }
      ],
      "source": [
        "# Get kolom kedua (menampilkan secara array 1D)\n",
        "# nama_array[:, [index_kolom]]\n",
        "n[:,[0]]\n"
      ]
    },
    {
      "cell_type": "code",
      "execution_count": 118,
      "metadata": {
        "id": "hBuzQlx3StrU"
      },
      "outputs": [
        {
          "data": {
            "text/plain": [
              "array([1, 5, 9])"
            ]
          },
          "execution_count": 118,
          "metadata": {},
          "output_type": "execute_result"
        }
      ],
      "source": [
        "# Get elemen diagonal (dari kiri ke kanan)\n",
        "# np.diag()\n",
        "# buka dokumentasi\n",
        "\n",
        "np.diag(n)\n"
      ]
    },
    {
      "cell_type": "code",
      "execution_count": 119,
      "metadata": {
        "id": "Pskv-HooStrU"
      },
      "outputs": [
        {
          "data": {
            "text/plain": [
              "array([3, 5, 7])"
            ]
          },
          "execution_count": 119,
          "metadata": {},
          "output_type": "execute_result"
        }
      ],
      "source": [
        "# Get elemen diagonal (dari kanan ke kiri)\n",
        "# np.diag(np.fliplr(n))\n",
        "\n",
        "np.diag(np.fliplr(n))\n"
      ]
    },
    {
      "cell_type": "markdown",
      "metadata": {
        "id": "MIFKOwQhStrU"
      },
      "source": [
        "### NOMOR 9\n",
        "\n",
        "Buatlah sebuah array seperti dibawah ini dan cari nilai `min`, `max`, dan `sum` untuk baris kedua dan kolom kedua.\n",
        "\n",
        "```\n",
        "m = [ [1, 2, 3], \n",
        "      [4, 5, 6],\n",
        "      [7, 8, 9]]\n",
        "```"
      ]
    },
    {
      "cell_type": "code",
      "execution_count": 134,
      "metadata": {
        "id": "6i4kEPTcStrU"
      },
      "outputs": [
        {
          "name": "stdout",
          "output_type": "stream",
          "text": [
            "[[1 2 3]\n",
            " [4 5 6]\n",
            " [7 8 9]]\n"
          ]
        }
      ],
      "source": [
        "#Buat array\n",
        "\n",
        "m = [ [1, 2, 3], \n",
        "      [4, 5, 6],\n",
        "      [7, 8, 9]]\n",
        "\n",
        "m = np.array(m)\n",
        "print(m)\n"
      ]
    },
    {
      "cell_type": "code",
      "execution_count": 135,
      "metadata": {
        "id": "sSxmJRbmStrU"
      },
      "outputs": [
        {
          "name": "stdout",
          "output_type": "stream",
          "text": [
            "[4 5 6]\n",
            "----------\n",
            "[[2]\n",
            " [5]\n",
            " [8]]\n",
            "----------\n"
          ]
        }
      ],
      "source": [
        "#buat variabel yang berisikan baris ke 2\n",
        "m_baris = m[1]\n",
        "print(m_baris)\n",
        "print('-'*10)\n",
        "\n",
        "#buat variabel yang berisikan kolom ke 2\n",
        "m_kolom = m[:,[1]]\n",
        "print(m_kolom)\n",
        "print('-'*10)\n"
      ]
    },
    {
      "cell_type": "code",
      "execution_count": 136,
      "metadata": {
        "id": "5ZWqCkT5StrU"
      },
      "outputs": [
        {
          "name": "stdout",
          "output_type": "stream",
          "text": [
            "4 min di baris ke 2\n",
            "6 max di baris ke 2\n",
            "15 sum di baris ke 2\n",
            "----------\n",
            "2 min di baris ke 2\n",
            "8 max di baris ke 2\n",
            "15 sum di baris ke 2\n"
          ]
        }
      ],
      "source": [
        "#Cari masing2 nilai sum, min, dan max\n",
        "\n",
        "print(f'{m_baris.min()} min di baris ke 2')\n",
        "print(f'{m_baris.max()} max di baris ke 2')\n",
        "print(f'{m_baris.sum()} sum di baris ke 2')\n",
        "print('-'*10)\n",
        "\n",
        "print(f'{m_kolom.min()} min di baris ke 2')\n",
        "print(f'{m_kolom.max()} max di baris ke 2')\n",
        "print(f'{m_kolom.sum()} sum di baris ke 2')\n"
      ]
    },
    {
      "cell_type": "markdown",
      "metadata": {
        "id": "l7iEuCS9StrU"
      },
      "source": [
        "### NOMOR 10\n",
        "\n",
        "<img src='https://i.ibb.co/JvBzgWn/greyscale.png'>\n",
        "\n",
        "Download image [disini](https://i.ibb.co/JvBzgWn/greyscale.png)\n",
        "\n",
        "* Load gambar tersebut dengan menggunakan library matplotlib.\n",
        "* Jawab pertanyaan berikut ini : \n",
        "  - Berapa ukuran gambar tersebut. (shape)\n",
        "  - Berapa total piksel/element pada gambar tersebut. (size)\n",
        "  - Cerahkan gambar tersebut dengan menambahkan suatu angka. (np.ones or np.zero)"
      ]
    },
    {
      "cell_type": "code",
      "execution_count": null,
      "metadata": {
        "id": "dqUhumFGStrU",
        "outputId": "93d40d7f-0800-469c-fd95-98b6773f7ff6"
      },
      "outputs": [
        {
          "name": "stdout",
          "output_type": "stream",
          "text": [
            "Requirement already satisfied: matplotlib in c:\\users\\acer\\anaconda3\\lib\\site-packages (3.3.4)\n",
            "Requirement already satisfied: numpy>=1.15 in c:\\users\\acer\\anaconda3\\lib\\site-packages (from matplotlib) (1.19.5)\n",
            "Requirement already satisfied: kiwisolver>=1.0.1 in c:\\users\\acer\\anaconda3\\lib\\site-packages (from matplotlib) (1.3.1)\n",
            "Requirement already satisfied: pillow>=6.2.0 in c:\\users\\acer\\anaconda3\\lib\\site-packages (from matplotlib) (8.2.0)\n",
            "Requirement already satisfied: cycler>=0.10 in c:\\users\\acer\\anaconda3\\lib\\site-packages (from matplotlib) (0.10.0)\n",
            "Requirement already satisfied: pyparsing!=2.0.4,!=2.1.2,!=2.1.6,>=2.0.3 in c:\\users\\acer\\anaconda3\\lib\\site-packages (from matplotlib) (2.4.7)\n",
            "Requirement already satisfied: python-dateutil>=2.1 in c:\\users\\acer\\anaconda3\\lib\\site-packages (from matplotlib) (2.8.1)\n",
            "Requirement already satisfied: six in c:\\users\\acer\\anaconda3\\lib\\site-packages (from cycler>=0.10->matplotlib) (1.15.0)\n"
          ]
        }
      ],
      "source": [
        "#Install matplotlib in jupyter\n",
        "import sys  \n",
        "!{sys.executable} -m pip install --user matplotlib"
      ]
    },
    {
      "cell_type": "code",
      "execution_count": 179,
      "metadata": {
        "id": "jMauHAfNStrV"
      },
      "outputs": [],
      "source": [
        "#Import matplotlib\n",
        "import matplotlib.pyplot as plt"
      ]
    },
    {
      "cell_type": "code",
      "execution_count": 141,
      "metadata": {
        "id": "nWhX5F7fStrV"
      },
      "outputs": [
        {
          "data": {
            "text/plain": [
              "array([[0.37254903, 0.3529412 , 0.34509805, ..., 0.        , 0.        ,\n",
              "        0.        ],\n",
              "       [0.38431373, 0.36078432, 0.34509805, ..., 0.        , 0.        ,\n",
              "        0.        ],\n",
              "       [0.3882353 , 0.36078432, 0.34117648, ..., 0.        , 0.        ,\n",
              "        0.        ],\n",
              "       ...,\n",
              "       [0.08235294, 0.07450981, 0.09411765, ..., 0.0627451 , 0.0627451 ,\n",
              "        0.06666667],\n",
              "       [0.07843138, 0.07450981, 0.10588235, ..., 0.06666667, 0.06666667,\n",
              "        0.06666667],\n",
              "       [0.05882353, 0.07058824, 0.12156863, ..., 0.07843138, 0.07843138,\n",
              "        0.07843138]], dtype=float32)"
            ]
          },
          "execution_count": 141,
          "metadata": {},
          "output_type": "execute_result"
        }
      ],
      "source": [
        "#Baca gambar menggunakan plt.imread('location_gambar') lalu masukkan ke variabel\n",
        "img = plt.imread('greyscale.png')\n",
        "img\n"
      ]
    },
    {
      "cell_type": "code",
      "execution_count": 143,
      "metadata": {
        "id": "5nL4HFouStrV"
      },
      "outputs": [
        {
          "data": {
            "text/plain": [
              "(700, 1120)"
            ]
          },
          "execution_count": 143,
          "metadata": {},
          "output_type": "execute_result"
        }
      ],
      "source": [
        "#Cek ukuran gambar\n",
        "#.shape\n",
        "\n",
        "img.shape"
      ]
    },
    {
      "cell_type": "code",
      "execution_count": 146,
      "metadata": {
        "id": "t_Hs3HeAStrV"
      },
      "outputs": [
        {
          "name": "stdout",
          "output_type": "stream",
          "text": [
            "784000\n",
            "784000\n"
          ]
        }
      ],
      "source": [
        "# Total Piksel\n",
        "#.size\n",
        "\n",
        "print(img.size)\n",
        "print(700*1120)\n"
      ]
    },
    {
      "cell_type": "code",
      "execution_count": null,
      "metadata": {
        "id": "0O72PLH-StrV"
      },
      "outputs": [],
      "source": [
        "#Nilai piksel\n",
        "#img, udah di scalling\n",
        "\n"
      ]
    },
    {
      "cell_type": "code",
      "execution_count": 163,
      "metadata": {
        "id": "CWe2rpMmStrV"
      },
      "outputs": [],
      "source": [
        "#Memastikan tipe data menjadi array\n",
        "#np.asarray()\n",
        "\n",
        "img = np.asarray(img)\n"
      ]
    },
    {
      "cell_type": "code",
      "execution_count": 175,
      "metadata": {
        "id": "Satf92YZStrV"
      },
      "outputs": [
        {
          "name": "stdout",
          "output_type": "stream",
          "text": [
            "0.19607843137254902\n"
          ]
        }
      ],
      "source": [
        "#Menentukan nilai yg akan ditambahkan ke piksel\n",
        "#Ubah ke skala 0-1, divide by 255 (highest pixel value)\n",
        "\n",
        "#value 255 jadi putih blas \n",
        "\n",
        "added_value = 50\n",
        "added_value = added_value/255\n",
        "print(added_value)\n"
      ]
    },
    {
      "cell_type": "code",
      "execution_count": 176,
      "metadata": {
        "id": "CR6hhhWiStrV"
      },
      "outputs": [],
      "source": [
        "#Copy datanya dulu (penting setiap ingin memodifikasi data) ke variabel baru\n",
        "\n",
        "img_new = img.copy()\n",
        "\n",
        "#tambahkan nilai piksel ke gambar\n",
        "\n",
        "img_new = img_new + added_value"
      ]
    },
    {
      "cell_type": "code",
      "execution_count": 177,
      "metadata": {
        "id": "nRI4ZXtcStrV"
      },
      "outputs": [
        {
          "data": {
            "text/plain": [
              "<matplotlib.image.AxesImage at 0x19c94abe6a0>"
            ]
          },
          "execution_count": 177,
          "metadata": {},
          "output_type": "execute_result"
        },
        {
          "data": {
            "image/png": "[encoded data removed]",
            "text/plain": [
              "<Figure size 432x288 with 1 Axes>"
            ]
          },
          "metadata": {
            "needs_background": "light"
          },
          "output_type": "display_data"
        }
      ],
      "source": [
        "# Menampilkan gambar original\n",
        "# `img` : array gambar\n",
        "# `cmap` : color map #figure\n",
        "# `vmin` : value minimum #figure\n",
        "# `vmax` : value maximum #figure\n",
        "#plt.imshow(nama_variabel, cmap='gray', vmin=0, vmax=1)\n",
        "\n",
        "plt.imshow(img, cmap='gray', vmin=0, vmax=1)\n"
      ]
    },
    {
      "cell_type": "code",
      "execution_count": 178,
      "metadata": {
        "id": "1OVTyJ0PStrV"
      },
      "outputs": [
        {
          "data": {
            "text/plain": [
              "<matplotlib.image.AxesImage at 0x19c94e29c70>"
            ]
          },
          "execution_count": 178,
          "metadata": {},
          "output_type": "execute_result"
        },
        {
          "data": {
            "image/png": "[encoded data removed]",
            "text/plain": [
              "<Figure size 432x288 with 1 Axes>"
            ]
          },
          "metadata": {
            "needs_background": "light"
          },
          "output_type": "display_data"
        }
      ],
      "source": [
        "# Menampilkan gambar yg sudah ditambah suatu value\n",
        "\n",
        "plt.imshow(img_new, cmap='gray', vmin=0, vmax=1)"
      ]
    }
  ],
  "metadata": {
    "colab": {
      "name": "numpy_array.ipynb",
      "provenance": []
    },
    "kernelspec": {
      "display_name": "Python 3.9.12 ('base')",
      "language": "python",
      "name": "python3"
    },
    "language_info": {
      "codemirror_mode": {
        "name": "ipython",
        "version": 3
      },
      "file_extension": ".py",
      "mimetype": "text/x-python",
      "name": "python",
      "nbconvert_exporter": "python",
      "pygments_lexer": "ipython3",
      "version": "3.9.12"
    },
    "orig_nbformat": 4,
    "vscode": {
      "interpreter": {
        "hash": "ad2bdc8ecc057115af97d19610ffacc2b4e99fae6737bb82f5d7fb13d2f2c186"
      }
    }
  },
  "nbformat": 4,
  "nbformat_minor": 0
}
