{
 "cells": [
  {
   "cell_type": "markdown",
   "metadata": {},
   "source": [
    "# Function basic & calling it"
   ]
  },
  {
   "cell_type": "markdown",
   "metadata": {},
   "source": [
    "### Function Creation"
   ]
  },
  {
   "cell_type": "code",
   "execution_count": 1,
   "metadata": {},
   "outputs": [],
   "source": [
    "# Buat fungsi tanpa argumen\n",
    "def fungsi1():\n",
    "    print('komen')\n",
    "\n",
    "# Buat fungsi pake argumen\n",
    "def rumus2(ada_isinya):\n",
    "    print(ada_isinya * 2)"
   ]
  },
  {
   "cell_type": "markdown",
   "metadata": {},
   "source": [
    "### Panggil Fungsi yang udh didefine"
   ]
  },
  {
   "cell_type": "code",
   "execution_count": 9,
   "metadata": {},
   "outputs": [
    {
     "name": "stdout",
     "output_type": "stream",
     "text": [
      "kita masukin kalimat apapun tuk panggil\n"
     ]
    }
   ],
   "source": [
    "# contoh panggil fungsi\n",
    "def kalimat(tulisan_bebas):\n",
    "    print(tulisan_bebas)\n",
    "\n",
    "kalimat('kita masukin kalimat apapun tuk panggil')"
   ]
  },
  {
   "cell_type": "code",
   "execution_count": 18,
   "metadata": {},
   "outputs": [
    {
     "name": "stdout",
     "output_type": "stream",
     "text": [
      "[1, 2, 3]\n",
      "[1, 2, 3, 4, 5, 6, 7, 8]\n",
      "[1, 2, 3, 4, 5, 6, 7, 8]\n"
     ]
    }
   ],
   "source": [
    "# misal kita punya list\n",
    "listku = [1,2,3]\n",
    "print(listku)\n",
    "\n",
    "# Function definition is here \n",
    "def listchange(listku):\n",
    "   listku = listku + [4,5,6,7,8]\n",
    "   print(listku) # .... ini rada triki\n",
    "   return listku\n",
    "\n",
    "listku = listchange(listku)\n",
    "print(listku)\n"
   ]
  },
  {
   "cell_type": "code",
   "execution_count": 37,
   "metadata": {},
   "outputs": [
    {
     "name": "stdout",
     "output_type": "stream",
     "text": [
      "[1, 2, 3]\n",
      "[1, 2, 3, 4, 5, 6]\n",
      "[1, 2, 3]\n"
     ]
    }
   ],
   "source": [
    "# atau klo mau simple\n",
    "listku=[1,2,3]\n",
    "print(listku)\n",
    "\n",
    "def listchange(listku):\n",
    "    listku = listku + [4,5,6]\n",
    "    print(listku)\n",
    "\n",
    "listchange(listku)\n",
    "print(listku)    "
   ]
  },
  {
   "cell_type": "code",
   "execution_count": 23,
   "metadata": {},
   "outputs": [],
   "source": [
    "# pake cara ini juga bisa\n",
    "def persamaan1(a,b):\n",
    "    luas = a*a + a*b + 10\n",
    "    return luas"
   ]
  },
  {
   "cell_type": "code",
   "execution_count": 27,
   "metadata": {},
   "outputs": [
    {
     "name": "stdout",
     "output_type": "stream",
     "text": [
      "160\n",
      "16\n",
      "50\n"
     ]
    }
   ],
   "source": [
    "print(persamaan1(10,5))\n",
    "print(persamaan1(2,1))\n",
    "print(persamaan1(5,3))"
   ]
  }
 ],
 "metadata": {
  "kernelspec": {
   "display_name": "Python 3.9.12 ('base')",
   "language": "python",
   "name": "python3"
  },
  "language_info": {
   "codemirror_mode": {
    "name": "ipython",
    "version": 3
   },
   "file_extension": ".py",
   "mimetype": "text/x-python",
   "name": "python",
   "nbconvert_exporter": "python",
   "pygments_lexer": "ipython3",
   "version": "3.9.12"
  },
  "orig_nbformat": 4,
  "vscode": {
   "interpreter": {
    "hash": "ad2bdc8ecc057115af97d19610ffacc2b4e99fae6737bb82f5d7fb13d2f2c186"
   }
  }
 },
 "nbformat": 4,
 "nbformat_minor": 2
}
