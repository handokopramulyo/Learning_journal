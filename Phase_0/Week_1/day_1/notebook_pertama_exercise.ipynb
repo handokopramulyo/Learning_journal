{
 "cells": [
  {
   "cell_type": "markdown",
   "metadata": {},
   "source": [
    "# Exercise Hari Pertama Week 1"
   ]
  },
  {
   "cell_type": "markdown",
   "metadata": {},
   "source": [
    "### Tipe Data (Int, Float, String, Boolean) + Bahas juga terkait Variable"
   ]
  },
  {
   "cell_type": "code",
   "execution_count": 19,
   "metadata": {},
   "outputs": [],
   "source": [
    "# kita define variable dulu biar ga ganti2 teruus (v = Variable)\n",
    "\n",
    "# yang ini tipe data single\n",
    "v1 = 12\n",
    "v2 = 3.5\n",
    "v3 = 'ini komen pertama'\n",
    "v4 = 'ini komen kedua'\n",
    "v5 = 'ini komen ketiga'\n",
    "v6 = 'ini komen keempat'\n",
    "v7 = True\n",
    "v8 = False\n",
    "\n",
    "# yang ini data majemuk\n",
    "v9 = (v1, v2, v3, v4, (v5, v6, v7), v8)\n",
    "v10 = [v1, v2, v3, v4, (v5, v6, v7), v8]"
   ]
  },
  {
   "cell_type": "markdown",
   "metadata": {},
   "source": [
    "### A. Tipe Data dulu"
   ]
  },
  {
   "cell_type": "code",
   "execution_count": 42,
   "metadata": {},
   "outputs": [
    {
     "name": "stdout",
     "output_type": "stream",
     "text": [
      "<class 'int'>\n",
      "<class 'float'>\n",
      "<class 'str'>\n",
      "<class 'str'>\n",
      "<class 'str'>\n",
      "<class 'str'>\n",
      "<class 'bool'>\n",
      "<class 'bool'>\n",
      "<class 'tuple'>\n",
      "<class 'list'>\n",
      "(12, 3.5, 'ini komen pertama', 'ini komen kedua', ('ini komen ketiga', 'ini komen keempat', True), False)\n",
      "[12, 3.5, 'ini komen pertama', 'ini komen kedua', ('ini komen ketiga', 'ini komen keempat', True), False]\n",
      "12 3.5 ini komen pertama (12, 3.5, 'ini komen pertama', 'ini komen kedua', ('ini komen ketiga', 'ini komen keempat', True), False)\n"
     ]
    }
   ],
   "source": [
    "# yuuk coba panggil variable & cek jenis datanya apa\n",
    "\n",
    "print(type(v1)); print(type(v2)); print(type(v3)); print(type(v4)); print(type(v5)); print(type(v6));\n",
    "print(type(v7)); print(type(v8)); print(type(v9)); print(type(v10))\n",
    "\n",
    "### ??? fungsi type + len cuma bisa ngecek satu bilangan tok\n",
    "\n",
    "print(v9)\n",
    "print(v10)\n",
    "\n",
    "# print beberapa variable pake tanda kome berubah jadi matrix\n",
    "print(v1, v2, v3, v9) "
   ]
  },
  {
   "cell_type": "markdown",
   "metadata": {},
   "source": [
    "### B. Variable (int dan float) & Operasi aljabar biasa"
   ]
  },
  {
   "cell_type": "code",
   "execution_count": 31,
   "metadata": {},
   "outputs": [
    {
     "name": "stdout",
     "output_type": "stream",
     "text": [
      "15.5\n",
      "8.5\n",
      "42.0\n",
      "3.4285714285714284\n",
      "3.0\n",
      "1.5\n"
     ]
    }
   ],
   "source": [
    "print(v1 + v2); print(v1 - v2); print(v1 * v2); print(v1 / v2) # Operasi tambah kali bagi standar\n",
    "print(v1 // v2) # pembagian int;\n",
    "print(v1 % v2) # pembagian int sisa alias modulus"
   ]
  },
  {
   "cell_type": "markdown",
   "metadata": {},
   "source": [
    "### C. Variable (string) & Operasi + Expresi + Formating"
   ]
  },
  {
   "cell_type": "code",
   "execution_count": 70,
   "metadata": {},
   "outputs": [
    {
     "name": "stdout",
     "output_type": "stream",
     "text": [
      "ini komen pertama\n",
      "ini komen kedua\n",
      "ini komen pertama ini komen kedua\n",
      "15\n"
     ]
    },
    {
     "data": {
      "text/plain": [
       "'INI KOMEN PERTAMAINI KOMEN KEDUAini komen ketiga'"
      ]
     },
     "execution_count": 70,
     "metadata": {},
     "output_type": "execute_result"
    }
   ],
   "source": [
    "# panggil variable string beda baris pake titik kome (;)\n",
    "print(v3); print (v4)\n",
    "\n",
    "# panggil variable string beda kolom pake kome (,)\n",
    "print(v3,v4)\n",
    "\n",
    "# coba itung panjang element di string (spasi termasuk hitungan), pake print atau enggak bisa juga\n",
    "print(len(v4))\n",
    "len(v5)\n",
    "\n",
    "# kita coba tambah elemen string (cuma bisa ditambah)\n",
    "v3 + v4 + v5\n",
    "\n",
    "# coba kita mainkan FONT TYPE gede kecil\n",
    "v3.upper() + v4.upper() + v5.lower()\n"
   ]
  },
  {
   "cell_type": "code",
   "execution_count": null,
   "metadata": {},
   "outputs": [],
   "source": []
  }
 ],
 "metadata": {
  "kernelspec": {
   "display_name": "Python 3.9.12 ('base')",
   "language": "python",
   "name": "python3"
  },
  "language_info": {
   "codemirror_mode": {
    "name": "ipython",
    "version": 3
   },
   "file_extension": ".py",
   "mimetype": "text/x-python",
   "name": "python",
   "nbconvert_exporter": "python",
   "pygments_lexer": "ipython3",
   "version": "3.9.12"
  },
  "orig_nbformat": 4,
  "vscode": {
   "interpreter": {
    "hash": "ad2bdc8ecc057115af97d19610ffacc2b4e99fae6737bb82f5d7fb13d2f2c186"
   }
  }
 },
 "nbformat": 4,
 "nbformat_minor": 2
}
