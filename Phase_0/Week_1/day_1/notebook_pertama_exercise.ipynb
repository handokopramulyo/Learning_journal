{
 "cells": [
  {
   "cell_type": "markdown",
   "metadata": {},
   "source": [
    "# Exercise Hari Pertama Week 1"
   ]
  },
  {
   "cell_type": "markdown",
   "metadata": {},
   "source": [
    "### Tipe Data (Int, Float, String, Boolean) + Bahas juga terkait Variable Assignment"
   ]
  },
  {
   "cell_type": "code",
   "execution_count": 79,
   "metadata": {},
   "outputs": [],
   "source": [
    "# kita define variable dulu biar ga ganti2 teruus (v = Variable)\n",
    "\n",
    "# yang ini tipe data single\n",
    "v1 = 12\n",
    "v2 = 3.5\n",
    "v3 = 'ini komen pertama'\n",
    "v4 = 'ini komen kedua'\n",
    "v5 = 'ini komen ketiga'\n",
    "v6 = 'ini komen keempat'\n",
    "v7 = True\n",
    "v8 = False\n",
    "\n",
    "# yang ini data majemuk\n",
    "v9 = (v1, v2, v3, v4, (v5, v6, v7), v8)\n",
    "v10 = [v1, v2, v3, v4, (v5, v6, v7), v8]"
   ]
  },
  {
   "cell_type": "markdown",
   "metadata": {},
   "source": [
    "### A. Tipe Data dulu"
   ]
  },
  {
   "cell_type": "code",
   "execution_count": 85,
   "metadata": {},
   "outputs": [
    {
     "name": "stdout",
     "output_type": "stream",
     "text": [
      "<class 'int'>\n",
      "<class 'float'>\n",
      "<class 'str'>\n",
      "<class 'str'>\n",
      "<class 'str'>\n",
      "<class 'str'>\n",
      "<class 'bool'>\n",
      "<class 'bool'>\n",
      "<class 'tuple'>\n",
      "<class 'list'>\n",
      "<class 'int'> <class 'float'> <class 'str'> <class 'str'> <class 'str'> <class 'str'> <class 'bool'> <class 'bool'> <class 'tuple'> <class 'list'>\n",
      "17 15 16 17 6 6\n",
      "12 3.5 ini komen pertama (12, 3.5, 'ini komen pertama', 'ini komen kedua', ('ini komen ketiga', 'ini komen keempat', True), False)\n"
     ]
    }
   ],
   "source": [
    "# yuuk coba panggil variable & cek jenis datanya apa\n",
    "\n",
    "print(type(v1)); print(type(v2)); print(type(v3)); print(type(v4)); print(type(v5)); print(type(v6));\n",
    "print(type(v7)); print(type(v8)); print(type(v9)); print(type(v10))\n",
    "\n",
    "### ??? fungsi type + len cuma bisa ngecek satu bilangan tok, kec di tulis ulang type sama\n",
    "\n",
    "print(type(v1), type(v2), type(v3), type(v4), type(v5), type(v6), type(v7), type(v8), type(v9), type(v10))\n",
    "\n",
    "print(len(v3), len(v4), len(v5), len(v6), len(v9), len(v10))\n",
    "\n",
    "# print beberapa variable pake tanda kome berubah jadi matrix\n",
    "print(v1, v2, v3, v9) "
   ]
  },
  {
   "cell_type": "markdown",
   "metadata": {},
   "source": [
    "### B. Variable (int dan float) & Operasi aljabar biasa"
   ]
  },
  {
   "cell_type": "code",
   "execution_count": 31,
   "metadata": {},
   "outputs": [
    {
     "name": "stdout",
     "output_type": "stream",
     "text": [
      "15.5\n",
      "8.5\n",
      "42.0\n",
      "3.4285714285714284\n",
      "3.0\n",
      "1.5\n"
     ]
    }
   ],
   "source": [
    "print(v1 + v2); print(v1 - v2); print(v1 * v2); print(v1 / v2) # Operasi tambah kali bagi standar\n",
    "print(v1 // v2) # pembagian int;\n",
    "print(v1 % v2) # pembagian int sisa alias modulus"
   ]
  },
  {
   "cell_type": "markdown",
   "metadata": {},
   "source": [
    "### C. Variable (string) & Operasi + Expresi + Formating"
   ]
  },
  {
   "cell_type": "code",
   "execution_count": 75,
   "metadata": {},
   "outputs": [
    {
     "name": "stdout",
     "output_type": "stream",
     "text": [
      "ini komen pertama\n",
      "ini komen kedua\n",
      "ini komen pertama ini komen kedua\n",
      "15\n"
     ]
    },
    {
     "data": {
      "text/plain": [
       "16"
      ]
     },
     "execution_count": 75,
     "metadata": {},
     "output_type": "execute_result"
    }
   ],
   "source": [
    "# panggil variable string beda baris pake titik kome (;)\n",
    "print(v3); print (v4)\n",
    "\n",
    "# panggil variable string beda kolom pake kome (,)\n",
    "print(v3,v4)\n",
    "\n",
    "# coba itung panjang element di string (spasi termasuk hitungan), pake print atau enggak bisa juga\n",
    "print(len(v4))\n",
    "len(v5)\n"
   ]
  },
  {
   "cell_type": "code",
   "execution_count": 78,
   "metadata": {},
   "outputs": [
    {
     "name": "stdout",
     "output_type": "stream",
     "text": [
      "ini komen pertamaini komen keduaini komen ketiga\n",
      "ini komen ketigaini komen ketiga\n"
     ]
    }
   ],
   "source": [
    "# kita coba tambah elemen string (cuma bisa ditambah, di x bisa tapi sama int)\n",
    "\n",
    "print(v3 + v4 + v5)\n",
    "print(v5 * 2)\n"
   ]
  },
  {
   "cell_type": "code",
   "execution_count": 86,
   "metadata": {},
   "outputs": [
    {
     "data": {
      "text/plain": [
       "'INI KOMEN PERTAMAINI KOMEN KEDUAini komen ketigaini komen ketiga'"
      ]
     },
     "execution_count": 86,
     "metadata": {},
     "output_type": "execute_result"
    }
   ],
   "source": [
    "# coba kita mainkan FONT TYPE gede kecil\n",
    "\n",
    "v3.upper() + v4.upper() + v5.lower()*2"
   ]
  },
  {
   "cell_type": "code",
   "execution_count": 93,
   "metadata": {},
   "outputs": [
    {
     "name": "stdout",
     "output_type": "stream",
     "text": [
      "coba kita panggil variable 1 yaitu 12 terus setelah itu kita panggil variable 2 yaitu INI KOMEN PERTAMA done\n",
      "coba kita panggil variable 1 yaitu 12 terus setelah itu kita panggil variable 2 yaitu INI KOMEN PERTAMA done\n"
     ]
    }
   ],
   "source": [
    "# panggil variable di yang ada stringnya\n",
    "print('coba kita panggil variable 1 yaitu', v1, 'terus setelah itu kita panggil variable 2 yaitu', v3.upper(),'done')\n",
    "\n",
    "# atau bisa juga gini\n",
    "print(f'coba kita panggil variable 1 yaitu {v1} terus setelah itu kita panggil variable 2 yaitu {v3.upper()} done')"
   ]
  },
  {
   "cell_type": "markdown",
   "metadata": {},
   "source": [
    "### D. Dictionary (harus ada relasi)"
   ]
  },
  {
   "cell_type": "code",
   "execution_count": 3,
   "metadata": {},
   "outputs": [
    {
     "data": {
      "text/plain": [
       "{'nama': 'hans', 'usia': '29'}"
      ]
     },
     "execution_count": 3,
     "metadata": {},
     "output_type": "execute_result"
    }
   ],
   "source": [
    "# membuat dictionary (1)\n",
    "\n",
    "biodata = {\"nama\" : \"hans\", \"usia\": \"29\"}\n",
    "biodata"
   ]
  },
  {
   "cell_type": "code",
   "execution_count": 8,
   "metadata": {},
   "outputs": [
    {
     "data": {
      "text/plain": [
       "True"
      ]
     },
     "execution_count": 8,
     "metadata": {},
     "output_type": "execute_result"
    }
   ],
   "source": [
    "'hans' in biodata['nama']"
   ]
  },
  {
   "cell_type": "code",
   "execution_count": 9,
   "metadata": {},
   "outputs": [],
   "source": [
    "# membuat dictionary (2)\n",
    "\n",
    "# kita buat dictionary kosong dulu\n",
    "person = {}\n",
    "\n",
    "# baru kita define keys nya pake list\n",
    "person['fname'] = 'Hack'\n",
    "person['lname'] = '8'\n",
    "person['age'] = 51\n",
    "person['spouse'] = 'Edna'\n",
    "person['children'] = ['Ralph', 'Betty', 'Joey']\n",
    "person['pets'] = {'dog': 'Fido', 'cat': 'Sox'}\n"
   ]
  },
  {
   "cell_type": "code",
   "execution_count": 30,
   "metadata": {},
   "outputs": [
    {
     "name": "stdout",
     "output_type": "stream",
     "text": [
      "['Ralph', 'Betty']\n"
     ]
    }
   ],
   "source": [
    "print(person['children'][:2])"
   ]
  },
  {
   "cell_type": "code",
   "execution_count": 24,
   "metadata": {},
   "outputs": [
    {
     "name": "stdout",
     "output_type": "stream",
     "text": [
      "['Ralph', 'Betty', 'Joey']\n"
     ]
    },
    {
     "data": {
      "text/plain": [
       "6"
      ]
     },
     "execution_count": 24,
     "metadata": {},
     "output_type": "execute_result"
    }
   ],
   "source": [
    "\n",
    "len(person)"
   ]
  },
  {
   "cell_type": "code",
   "execution_count": 28,
   "metadata": {},
   "outputs": [
    {
     "data": {
      "text/plain": [
       "['Avanza', 'Yaris']"
      ]
     },
     "execution_count": 28,
     "metadata": {},
     "output_type": "execute_result"
    }
   ],
   "source": [
    "# membuat dictionary (3)\n",
    "\n",
    "mobil = {\n",
    "  \"brand\": \"Totoya\",\n",
    "  \"model\": [\"Avanza\",'Yaris','inova','altis','fortuner'],\n",
    "  \"year\": 2020\n",
    "}\n",
    "\n",
    "mobil[\"model\"][:2]"
   ]
  }
 ],
 "metadata": {
  "kernelspec": {
   "display_name": "Python 3.9.12 ('base')",
   "language": "python",
   "name": "python3"
  },
  "language_info": {
   "codemirror_mode": {
    "name": "ipython",
    "version": 3
   },
   "file_extension": ".py",
   "mimetype": "text/x-python",
   "name": "python",
   "nbconvert_exporter": "python",
   "pygments_lexer": "ipython3",
   "version": "3.9.12"
  },
  "orig_nbformat": 4,
  "vscode": {
   "interpreter": {
    "hash": "ad2bdc8ecc057115af97d19610ffacc2b4e99fae6737bb82f5d7fb13d2f2c186"
   }
  }
 },
 "nbformat": 4,
 "nbformat_minor": 2
}
