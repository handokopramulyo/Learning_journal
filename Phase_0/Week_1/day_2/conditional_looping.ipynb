{
 "cells": [
  {
   "cell_type": "markdown",
   "metadata": {},
   "source": [
    "# Variable"
   ]
  },
  {
   "cell_type": "markdown",
   "metadata": {},
   "source": [
    "### Latihan kondisi (if, elif, else) & looping brg mas Rafif"
   ]
  },
  {
   "cell_type": "code",
   "execution_count": 20,
   "metadata": {},
   "outputs": [
    {
     "name": "stdout",
     "output_type": "stream",
     "text": [
      "nilai 12 sama dengan 12\n"
     ]
    }
   ],
   "source": [
    "v1 = 5\n",
    "v2 = 7\n",
    "v3 = v1 + v2\n",
    "\n",
    "if v3 == 12:\n",
    "    print(f'nilai {v3} sama dengan 12')"
   ]
  },
  {
   "cell_type": "code",
   "execution_count": 31,
   "metadata": {},
   "outputs": [
    {
     "name": "stdout",
     "output_type": "stream",
     "text": [
      "Coba kita liat hasilnya -c\n",
      "Nilai 25 ekseptional\n"
     ]
    }
   ],
   "source": [
    "v4 = 25\n",
    "\n",
    "if v4 >= 30:\n",
    "    print('Coba kita liat hasilnya -a')\n",
    "    print(f'Nilai {v4} lebih besar dari 15')\n",
    "\n",
    "# Gunakan elif jika perlu tambahan kondisi dst\n",
    "elif 20 < v4 < 30:\n",
    "    print('Coba kita liat hasilnya -c')\n",
    "    print(f'Nilai {v4} ekseptional')\n",
    "\n",
    "elif v4 <= 35:\n",
    "    print('Coba kita liat hasilnya -d')\n",
    "    print(f'Nilai {v4} kurang dari 15')\n",
    "\n",
    "elif v4 <= 30:\n",
    "    print('Coba kita liat hasilnya -b')\n",
    "    print(f'Nilai {v4} kurang dari 15')\n",
    "\n",
    "else:\n",
    "    print('Coba kita liat hasilnya -e')\n",
    "    print(f'Nilai {v4} kurang dari 15')"
   ]
  },
  {
   "cell_type": "code",
   "execution_count": 45,
   "metadata": {},
   "outputs": [
    {
     "name": "stdout",
     "output_type": "stream",
     "text": [
      "nilainya 30 jadi jawabnnya E\n"
     ]
    }
   ],
   "source": [
    "# Nilai 25 di atas 10, apakah 25 lebih dari 20? iya\n",
    "\n",
    "angka_new = 30\n",
    "\n",
    "if 80 <= angka_new < 100:\n",
    "    print(f'nilainya {angka_new} jadi jawabnnya A')\n",
    "elif 70 <= angka_new < 80:\n",
    "    print(f'nilainya {angka_new} jadi jawabnnya B')\n",
    "elif 60 <= angka_new < 70:\n",
    "    print(f'nilainya {angka_new} jadi jawabnnya C')\n",
    "elif 40 <= angka_new < 60:\n",
    "    print(f'nilainya {angka_new} jadi jawabnnya D')\n",
    "else:\n",
    "    print(f'nilainya {angka_new} jadi jawabnnya E')\n"
   ]
  },
  {
   "cell_type": "markdown",
   "metadata": {},
   "source": [
    "### Looping"
   ]
  },
  {
   "cell_type": "markdown",
   "metadata": {},
   "source": [
    "### while Loop"
   ]
  },
  {
   "cell_type": "code",
   "execution_count": 1,
   "metadata": {},
   "outputs": [
    {
     "name": "stdout",
     "output_type": "stream",
     "text": [
      "5 x 1 = 5\n",
      "5 x 2 = 10\n",
      "5 x 3 = 15\n",
      "5 x 4 = 20\n",
      "5 x 5 = 25\n",
      "5 x 6 = 30\n",
      "5 x 7 = 35\n",
      "5 x 8 = 40\n",
      "5 x 9 = 45\n",
      "5 x 10 = 50\n"
     ]
    }
   ],
   "source": [
    "i = 1\n",
    "\n",
    "while i <= 10:\n",
    "    print(f'5 x {i} = {5*i}')\n",
    "    i = i + 1\n",
    "    "
   ]
  },
  {
   "cell_type": "code",
   "execution_count": 68,
   "metadata": {},
   "outputs": [
    {
     "name": "stdout",
     "output_type": "stream",
     "text": [
      "perkalian 1\n",
      "1 x 1 = 1\n",
      "1 x 2 = 2\n",
      "1 x 3 = 3\n",
      "1 x 4 = 4\n",
      "1 x 5 = 5\n",
      "1 x 6 = 6\n",
      "1 x 7 = 7\n",
      "1 x 8 = 8\n",
      "1 x 9 = 9\n",
      "1 x 10 = 10\n",
      "----------\n",
      "perkalian 2\n",
      "2 x 1 = 2\n",
      "2 x 2 = 4\n",
      "2 x 3 = 6\n",
      "2 x 4 = 8\n",
      "2 x 5 = 10\n",
      "2 x 6 = 12\n",
      "2 x 7 = 14\n",
      "2 x 8 = 16\n",
      "2 x 9 = 18\n",
      "2 x 10 = 20\n",
      "----------\n"
     ]
    }
   ],
   "source": [
    "i = 1 # perubahan lambat\n",
    "j = 1 # perubahan cepat\n",
    "\n",
    "while i <= 2:\n",
    "    print (f'perkalian {i}')\n",
    "    while j <= 10:\n",
    "        print(f'{i} x {j} = {i*j}')\n",
    "        j = j + 1\n",
    "    print('-'*10) # bikin pembatas garis\n",
    "    i = i + 1\n",
    "    j = 1    "
   ]
  },
  {
   "cell_type": "markdown",
   "metadata": {},
   "source": [
    "### For dan in"
   ]
  },
  {
   "cell_type": "code",
   "execution_count": 25,
   "metadata": {},
   "outputs": [],
   "source": [
    "cities = ['bandung','bekasi','jakarta','malang']"
   ]
  },
  {
   "cell_type": "code",
   "execution_count": 26,
   "metadata": {},
   "outputs": [],
   "source": [
    "cities.append('kediri')\n",
    "cities.insert(0,'sukabumi')"
   ]
  },
  {
   "cell_type": "code",
   "execution_count": 27,
   "metadata": {},
   "outputs": [
    {
     "name": "stdout",
     "output_type": "stream",
     "text": [
      "['sukabumi', 'bandung', 'bekasi', 'jakarta', 'malang', 'kediri']\n"
     ]
    }
   ],
   "source": [
    "print(cities)"
   ]
  },
  {
   "cell_type": "code",
   "execution_count": 28,
   "metadata": {},
   "outputs": [],
   "source": [
    "cities = cities + ['yogya']"
   ]
  },
  {
   "cell_type": "code",
   "execution_count": 29,
   "metadata": {},
   "outputs": [
    {
     "name": "stdout",
     "output_type": "stream",
     "text": [
      "['sukabumi', 'bandung', 'bekasi', 'jakarta', 'malang', 'kediri', 'yogya']\n"
     ]
    }
   ],
   "source": [
    "print(cities)"
   ]
  },
  {
   "cell_type": "code",
   "execution_count": 30,
   "metadata": {},
   "outputs": [
    {
     "name": "stdout",
     "output_type": "stream",
     "text": [
      "sukabumi\n",
      "bandung\n",
      "bekasi\n",
      "jakarta\n",
      "malang\n",
      "kediri\n",
      "yogya\n"
     ]
    }
   ],
   "source": [
    "for nama_kota in cities: # klo pake for, nama_kota jadi variable temporary\n",
    "    print(nama_kota)"
   ]
  },
  {
   "cell_type": "markdown",
   "metadata": {},
   "source": [
    "#### Cara buat list RANGE"
   ]
  },
  {
   "cell_type": "code",
   "execution_count": 31,
   "metadata": {},
   "outputs": [
    {
     "data": {
      "text/plain": [
       "[1, 2, 3, 4, 5, 6, 7, 8, 9, 10]"
      ]
     },
     "execution_count": 31,
     "metadata": {},
     "output_type": "execute_result"
    }
   ],
   "source": [
    "list(range(1,11))"
   ]
  },
  {
   "cell_type": "markdown",
   "metadata": {},
   "source": [
    "### Buat Loop pake FOR"
   ]
  },
  {
   "cell_type": "code",
   "execution_count": 32,
   "metadata": {},
   "outputs": [
    {
     "name": "stdout",
     "output_type": "stream",
     "text": [
      "1\n",
      "2\n",
      "3\n",
      "4\n",
      "5\n",
      "6\n",
      "7\n",
      "8\n",
      "9\n",
      "10\n"
     ]
    }
   ],
   "source": [
    "for var in range(1,11):\n",
    "    print(var)"
   ]
  },
  {
   "cell_type": "code",
   "execution_count": 84,
   "metadata": {},
   "outputs": [
    {
     "name": "stdout",
     "output_type": "stream",
     "text": [
      "1 x 1 = 1\n",
      "1 x 2 = 2\n",
      "1 x 3 = 3\n",
      "1 x 4 = 4\n",
      "1 x 5 = 5\n",
      "1 x 6 = 6\n",
      "1 x 7 = 7\n",
      "1 x 8 = 8\n",
      "1 x 9 = 9\n",
      "1 x 10 = 10\n",
      "----------\n",
      "2 x 1 = 2\n",
      "2 x 2 = 4\n",
      "2 x 3 = 6\n",
      "2 x 4 = 8\n",
      "2 x 5 = 10\n",
      "2 x 6 = 12\n",
      "2 x 7 = 14\n",
      "2 x 8 = 16\n",
      "2 x 9 = 18\n",
      "2 x 10 = 20\n",
      "----------\n"
     ]
    }
   ],
   "source": [
    "for i in range(1,3):\n",
    "    for j in range(1,11):\n",
    "        print(f'{i} x {j} = {i*j}')\n",
    "    print('-'*10)"
   ]
  },
  {
   "cell_type": "markdown",
   "metadata": {},
   "source": [
    "### Control Flow Statement"
   ]
  },
  {
   "cell_type": "markdown",
   "metadata": {},
   "source": [
    "Continue"
   ]
  },
  {
   "cell_type": "code",
   "execution_count": 93,
   "metadata": {},
   "outputs": [
    {
     "name": "stdout",
     "output_type": "stream",
     "text": [
      "2\n",
      "4\n",
      "6\n",
      "8\n",
      "10\n"
     ]
    }
   ],
   "source": [
    "gamma = 0\n",
    "\n",
    "while gamma <= 10:\n",
    "    gamma = gamma + 1\n",
    "    if gamma % 2 == 1:\n",
    "        continue\n",
    "    print(gamma)    "
   ]
  },
  {
   "cell_type": "markdown",
   "metadata": {},
   "source": [
    "Break"
   ]
  },
  {
   "cell_type": "code",
   "execution_count": 97,
   "metadata": {},
   "outputs": [
    {
     "name": "stdout",
     "output_type": "stream",
     "text": [
      "1\n",
      "2\n",
      "3\n",
      "4\n",
      "5\n",
      "6\n"
     ]
    }
   ],
   "source": [
    "teta = 0\n",
    "\n",
    "while teta <= 10:\n",
    "    teta = teta + 1\n",
    "    if teta == 7:\n",
    "        break\n",
    "    print(teta)"
   ]
  },
  {
   "cell_type": "markdown",
   "metadata": {},
   "source": [
    "### Kombinasi Kondisi dan Looping"
   ]
  },
  {
   "cell_type": "code",
   "execution_count": 104,
   "metadata": {},
   "outputs": [
    {
     "data": {
      "text/plain": [
       "{'hans': 10, 'mulya': 20, 'koko': 40, 'handoko': 30}"
      ]
     },
     "execution_count": 104,
     "metadata": {},
     "output_type": "execute_result"
    }
   ],
   "source": [
    "# Kondisi dan Looping pake buat dictionary\n",
    "\n",
    "dict = {'hans':10,'mulya':20, 'koko':40,'handoko':30}\n",
    "dict"
   ]
  },
  {
   "cell_type": "code",
   "execution_count": 101,
   "metadata": {},
   "outputs": [
    {
     "data": {
      "text/plain": [
       "dict_values([10, 20, 40, 30])"
      ]
     },
     "execution_count": 101,
     "metadata": {},
     "output_type": "execute_result"
    }
   ],
   "source": [
    "dict.values()"
   ]
  },
  {
   "cell_type": "code",
   "execution_count": 103,
   "metadata": {},
   "outputs": [
    {
     "data": {
      "text/plain": [
       "dict_keys(['hans', 'mulya', 'koko', 'handoko'])"
      ]
     },
     "execution_count": 103,
     "metadata": {},
     "output_type": "execute_result"
    }
   ],
   "source": [
    "dict.keys()"
   ]
  },
  {
   "cell_type": "code",
   "execution_count": 107,
   "metadata": {},
   "outputs": [
    {
     "data": {
      "text/plain": [
       "dict_items([('hans', 10), ('mulya', 20), ('koko', 40), ('handoko', 30)])"
      ]
     },
     "execution_count": 107,
     "metadata": {},
     "output_type": "execute_result"
    }
   ],
   "source": [
    "dict.items()"
   ]
  },
  {
   "cell_type": "code",
   "execution_count": 114,
   "metadata": {},
   "outputs": [
    {
     "data": {
      "text/plain": [
       "{'hans': 'E', 'mulya': 'E', 'koko': 'D', 'handoko': 'E'}"
      ]
     },
     "execution_count": 114,
     "metadata": {},
     "output_type": "execute_result"
    }
   ],
   "source": [
    "grade = {}\n",
    "\n",
    "for nama, nilai in dict.items():\n",
    "  if 0 < nilai < 100:\n",
    "    if nilai >= 80:\n",
    "      grade[nama] = 'A'\n",
    "    elif nilai >= 70:\n",
    "      grade[nama] = 'B'\n",
    "    elif nilai >= 60:\n",
    "      grade[nama] = 'C'\n",
    "    elif nilai >= 40:\n",
    "      grade[nama] = 'D'\n",
    "    else:\n",
    "      grade[nama] = 'E'\n",
    "  else:\n",
    "    grade[nama] = 'Eror'\n",
    "\n",
    "grade"
   ]
  }
 ],
 "metadata": {
  "kernelspec": {
   "display_name": "Python 3.9.12 ('base')",
   "language": "python",
   "name": "python3"
  },
  "language_info": {
   "codemirror_mode": {
    "name": "ipython",
    "version": 3
   },
   "file_extension": ".py",
   "mimetype": "text/x-python",
   "name": "python",
   "nbconvert_exporter": "python",
   "pygments_lexer": "ipython3",
   "version": "3.9.12"
  },
  "orig_nbformat": 4,
  "vscode": {
   "interpreter": {
    "hash": "ad2bdc8ecc057115af97d19610ffacc2b4e99fae6737bb82f5d7fb13d2f2c186"
   }
  }
 },
 "nbformat": 4,
 "nbformat_minor": 2
}
