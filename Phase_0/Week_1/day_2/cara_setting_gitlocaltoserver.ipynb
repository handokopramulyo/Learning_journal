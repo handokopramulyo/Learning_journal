{
 "cells": [
  {
   "cell_type": "code",
   "execution_count": null,
   "metadata": {},
   "outputs": [],
   "source": [
    "# ================= CONNECT LOCAL TO SERVER\n",
    "# SKEMA 1. Connect local to server github (No Repo created)\n",
    "# X klo git clone tak perlu init & clone\n",
    "\n",
    "# cmd dari folder yg mau kita connect !!! biar directory otomatis link, so buat dulu foldernya\n",
    "\n",
    "### git init \n",
    "### git remote add [nama-remote][url] (paste link dari repo yg udah kita buat di github)\n",
    "### git add .\n",
    "### git commit -m \"pesan komit opsional tapi harus keisi\" (fix-sasi pengiriman)\n",
    "### git push [nama-remote][nama-branch] (kirim yg sudah dikomit)\n",
    "\n",
    "# klo minta fingerprint klik yes aja\n",
    "\n",
    "# ================= PUSH LOCAL TO SERVER (udah READY)\n",
    "# SKEMA 2. Push data ke Repo yang udah connect dan udah ter-create\n",
    "\n",
    "### git status (ngecek perubahan)\n",
    "### git add . (tuk masukin ke staging area semuaa)\n",
    "### git add ...paste file yg berubah (spasi) paste file yg berubah dst = custom add\n",
    "### git commit -m \"perubahan\"\n",
    "### git push origin main (atau bisa git push aja klo ga ada branch)\n",
    "\n",
    "# ================= CLONE SERVER TO LOCAL (udah READY)\n",
    "# SKEMA 3. Clone data repo yg ready to local kita\n",
    "\n",
    "# Go to github reponya, ambil code reponya\n",
    "# Buka CMD di lokasi path yg mau kita taro folder repo dari server\n",
    "### git clone (paste codenya)\n",
    "# Nanti auto kedownload ke folder sesuai isi repo\n",
    "\n",
    "# ================= CARA BUAT BRANCH TUK KERJA BARENG\n",
    "# Go to folder path kita with CMD\n",
    "### git branch (nanti bakal muncul branch mana yg lagi aktif)\n",
    "### git branch xxxx (x = masukin nama branch yg baru)\n",
    "### git branch (cek lagi semua branch)\n",
    "### git checkout xxxx (checkout pindah ke branch yg mau kita tuju)\n",
    "\n",
    "# IF lupa nama remote dan branch\n",
    "### git branch\n",
    "### git remote"
   ]
  }
 ],
 "metadata": {
  "kernelspec": {
   "display_name": "Python 3.9.12 ('base')",
   "language": "python",
   "name": "python3"
  },
  "language_info": {
   "name": "python",
   "version": "3.9.12"
  },
  "orig_nbformat": 4,
  "vscode": {
   "interpreter": {
    "hash": "ad2bdc8ecc057115af97d19610ffacc2b4e99fae6737bb82f5d7fb13d2f2c186"
   }
  }
 },
 "nbformat": 4,
 "nbformat_minor": 2
}
