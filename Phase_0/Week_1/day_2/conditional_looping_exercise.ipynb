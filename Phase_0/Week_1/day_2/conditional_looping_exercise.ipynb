{
 "cells": [
  {
   "cell_type": "markdown",
   "metadata": {},
   "source": [
    "# Kondisi & Looping"
   ]
  },
  {
   "cell_type": "markdown",
   "metadata": {},
   "source": [
    "### A. Kondisi : If, elif, else"
   ]
  },
  {
   "cell_type": "code",
   "execution_count": 36,
   "metadata": {},
   "outputs": [],
   "source": [
    "# kita coba buat case dulu, misal ada variable harga mining, m = xxx usd.\n",
    "mining = 100\n",
    "\n",
    "# Harga di market klo mining lagi berkembang:\n",
    "# Kondisi A. Di kisaran Best > 55\n",
    "# Kondisi B. Di kisaran Good > 52 sd 55\n",
    "# Kondisi C. Di kisaran Average > 48 sd 52\n",
    "# Kondisi D. Di kisaran Loss > 45 sd 48\n",
    "# Kondisi E. Di kisaran Avoid <= 45\n",
    "# Kondisi exeptional. Di kisaran <= 25 dan lebih besar dari >= 100"
   ]
  },
  {
   "cell_type": "code",
   "execution_count": 37,
   "metadata": {},
   "outputs": [
    {
     "name": "stdout",
     "output_type": "stream",
     "text": [
      "Kondisi harga 100 meet kondisi A\n"
     ]
    }
   ],
   "source": [
    "# Baris after penggunaan if tidak bisa langsung elif, harus ada print atau fungsi if lagi\n",
    "# Bagian ini kita coba pake variable assignment biasa yaa!\n",
    "\n",
    "if 25 < mining <= 100:\n",
    "    if mining > 55:\n",
    "        print(f'Kondisi harga {mining} meet kondisi A')\n",
    "    elif mining > 52:\n",
    "        print(f'Kondisi harga {mining} meet kondisi B')\n",
    "    elif mining > 48:\n",
    "        print(f'Kondisi harga {mining} meet kondisi C')\n",
    "    elif mining > 45:\n",
    "        print(f'Kondisi harga {mining} meet kondisi D')\n",
    "    else:\n",
    "        print(f'Kondisi harga {mining} meet kondisi E')        \n",
    "else:\n",
    "    print(f'Kondisi harga {mining} meet kondisi exceptional')"
   ]
  },
  {
   "cell_type": "code",
   "execution_count": 40,
   "metadata": {},
   "outputs": [
    {
     "name": "stdout",
     "output_type": "stream",
     "text": [
      "Kondisi harga 100 meet kondisi A\n"
     ]
    }
   ],
   "source": [
    "# Case di atas bisa juga pake fungsi in range\n",
    "\n",
    "if mining in range (25,101): # Klo pake in range, int harus rada main !!! 100 --> 101\n",
    "    if mining in range (55,101): # Bagian sini juga harus diganti dari 100 --> 101\n",
    "        print(f'Kondisi harga {mining} meet kondisi A')\n",
    "    elif mining in range (52,55):\n",
    "        print(f'Kondisi harga {mining} meet kondisi B')\n",
    "    elif mining in range (48,52):\n",
    "        print(f'Kondisi harga {mining} meet kondisi C')\n",
    "    elif mining in range (45,48):\n",
    "        print(f'Kondisi harga {mining} meet kondisi D')\n",
    "    else:\n",
    "        print(f'Kondisi harga {mining} meet kondisi E')        \n",
    "else:\n",
    "    print(f'Kondisi harga {mining} meet kondisi exceptional')\n"
   ]
  },
  {
   "cell_type": "markdown",
   "metadata": {},
   "source": [
    "### B. Looping : While (harus pake -line break supaya loop limited; i = i + 1)"
   ]
  },
  {
   "cell_type": "code",
   "execution_count": 51,
   "metadata": {},
   "outputs": [
    {
     "name": "stdout",
     "output_type": "stream",
     "text": [
      "ini loop yang ke 1\n",
      "1 x 1 = 5\n",
      "ini loop yang ke 2\n",
      "1 x 2 = 10\n",
      "ini loop yang ke 3\n",
      "1 x 3 = 15\n",
      "ini loop yang ke 4\n",
      "1 x 4 = 20\n",
      "ini loop yang ke 5\n",
      "1 x 5 = 25\n"
     ]
    }
   ],
   "source": [
    "# Berikut case loop sederhana tuk shows angka 1 sd 5 dengan while\n",
    "# & sedikit modifikasi perkalian\n",
    "# Penggunaan satu variable only (i)\n",
    "\n",
    "i = 1\n",
    "\n",
    "# Penentuan batas Loop xxx\n",
    "while i <= 5: \n",
    "    print(f'ini loop yang ke {i}')\n",
    "    print(f'1 x {i} = {5*i}') # Tambah fungsi penjumlahan\n",
    "    # After print selesai, update variable i jadi new i tuk loop berikutnya\n",
    "    # Sampai ketemu di batas Loop xxx\n",
    "    i = i + 1 "
   ]
  },
  {
   "cell_type": "code",
   "execution_count": 65,
   "metadata": {},
   "outputs": [
    {
     "name": "stdout",
     "output_type": "stream",
     "text": [
      "ini loop yang ke 1\n",
      "1 x 1 = 1\n",
      "1 x 2 = 2\n",
      "1 x 3 = 3\n",
      "1 x 4 = 4\n",
      "1 x 5 = 5\n",
      "ini loop yang ke 2\n",
      "2 x 1 = 2\n",
      "2 x 2 = 4\n",
      "2 x 3 = 6\n",
      "2 x 4 = 8\n",
      "2 x 5 = 10\n",
      "ini loop yang ke 3\n",
      "3 x 1 = 3\n",
      "3 x 2 = 6\n",
      "3 x 3 = 9\n",
      "3 x 4 = 12\n",
      "3 x 5 = 15\n"
     ]
    }
   ],
   "source": [
    "# Oke, sekarang kita coba buat loop pake dua variable i sama j\n",
    "# Biasanya dipake tuk adu dua data set atau buat bikin matrix tabel atau array\n",
    "# Yuk ah lets gooo, kita pake while dua kali\n",
    "\n",
    "i = 1; j = 1\n",
    "\n",
    "# Penentuan batas Loop xxx tuk i\n",
    "while i <= 3:\n",
    "    print(f'ini loop yang ke {i}')\n",
    "    while j <= 5: # Penentuan batas Loop xxx tuk j\n",
    "        print(f'{i} x {j} = {i*j}') # Tambah fungsi penjumlahan\n",
    "        j = j + 1 # After print selesai, update variable j jadi new j tuk loop berikutnya\n",
    "        # Sampai ketemu di batas Loop xxx\n",
    "    i = i + 1 # jgn lupa di update lagii variablenya\n",
    "    j = 1 # reset j supaya perkalian start dari angka 1 lagi after looping ke limit\n",
    "\n"
   ]
  },
  {
   "cell_type": "markdown",
   "metadata": {},
   "source": [
    "### C. Looping : For ... in .... (pake variable temporary)"
   ]
  },
  {
   "cell_type": "code",
   "execution_count": 87,
   "metadata": {},
   "outputs": [
    {
     "name": "stdout",
     "output_type": "stream",
     "text": [
      "jumlah loop yang muncul 8\n",
      "Loop ke 1 bandung\n",
      "Loop ke 2 bekasi\n",
      "Loop ke 3 jakarta\n",
      "Loop ke 4 malang\n",
      "Loop ke 5 yogya\n",
      "Loop ke 6 madiun\n",
      "Loop ke 7 kediri\n"
     ]
    }
   ],
   "source": [
    "# Klo for pake variable temporary\n",
    "# jadi ga perlu define variable dulu sblm panggil fungsi for\n",
    "# kita coba tambah buat list terus pake fungsi len...\n",
    "\n",
    "cities = ['bandung','bekasi','jakarta','malang'] # buat list, value start from 0\n",
    "\n",
    "# Tambah daftar list yang sudah didefine sblmnya\n",
    "cities = cities + ['yogya','madiun','kediri']\n",
    "batas_loop = len(cities)+1\n",
    "\n",
    "print(f'jumlah loop yang muncul {batas_loop}')\n",
    "\n",
    "for i in range(1,batas_loop):\n",
    "    print(f'Loop ke {i} {cities[i-1]}') # makannya ini dikurang -1\n",
    "    #print(f'1 x {i} = {5*i}') # Tambah fungsi penjumlahan"
   ]
  },
  {
   "cell_type": "markdown",
   "metadata": {},
   "source": [
    "### D. Control Flow Statement"
   ]
  },
  {
   "cell_type": "code",
   "execution_count": 1,
   "metadata": {},
   "outputs": [
    {
     "name": "stdout",
     "output_type": "stream",
     "text": [
      "2\n",
      "4\n",
      "6\n",
      "8\n",
      "10\n"
     ]
    }
   ],
   "source": [
    "# bagian ini CFS yang CONTINUE\n",
    "# case ini : show angka genap yang kita loop sampe batas xxx\n",
    "# 1 step : show dulu angka 1 sd 10 pake fungsi while atau for in range\n",
    "# 2 step : setelah itu pake fungsi if tuk munculin yg genap aja pake modulus\n",
    "\n",
    "variable = 0\n",
    "\n",
    "while variable <= 10:\n",
    "    variable = variable + 1\n",
    "    if variable % 2 == 1:\n",
    "        continue\n",
    "    print(variable)\n",
    "\n",
    "    # ga perlu pake else... hmmmm"
   ]
  },
  {
   "cell_type": "markdown",
   "metadata": {},
   "source": [
    "### E. Kombinasi Kondisi & Loop"
   ]
  },
  {
   "cell_type": "code",
   "execution_count": 1,
   "metadata": {},
   "outputs": [],
   "source": [
    "# kita liat bilangan dari "
   ]
  },
  {
   "cell_type": "markdown",
   "metadata": {},
   "source": [
    "## FTDS // NG-1NG1 Assignment [simple version]"
   ]
  },
  {
   "cell_type": "code",
   "execution_count": 37,
   "metadata": {},
   "outputs": [
    {
     "name": "stdout",
     "output_type": "stream",
     "text": [
      "[951, 402, 918, 626, 949]\n"
     ]
    }
   ],
   "source": [
    "# Buatlah list sesuai soal dengan value :\n",
    "numbers = [951, 402, 918, 626, 949]\n",
    "\n",
    "# Cetak numbers\n",
    "print(numbers)"
   ]
  },
  {
   "cell_type": "code",
   "execution_count": 39,
   "metadata": {},
   "outputs": [
    {
     "name": "stdout",
     "output_type": "stream",
     "text": [
      "402\n",
      "918\n",
      "626\n"
     ]
    }
   ],
   "source": [
    "# Loop dan print semua angka genap dari list angka diatas dengan urutan yang sama.\n",
    "\n",
    "for genap in numbers:\n",
    "    if genap % 2 == 0:\n",
    "        print(genap)\n"
   ]
  },
  {
   "cell_type": "code",
   "execution_count": 40,
   "metadata": {},
   "outputs": [
    {
     "name": "stdout",
     "output_type": "stream",
     "text": [
      "402\n",
      "918\n"
     ]
    }
   ],
   "source": [
    "# Jangan mencetak angka apapun yang muncul setelah angka 918 \n",
    "# berdasarkan posisi angka tersebut pada list diatas.\n",
    "\n",
    "for genap in numbers:\n",
    "    if genap % 2 == 0:\n",
    "        print(genap)\n",
    "        if genap == 918:\n",
    "            break"
   ]
  },
  {
   "cell_type": "code",
   "execution_count": 43,
   "metadata": {},
   "outputs": [
    {
     "name": "stdout",
     "output_type": "stream",
     "text": [
      "402\n",
      "918\n",
      "-----\n",
      "done\n"
     ]
    }
   ],
   "source": [
    "# Tampilkan pesan ”Done” setelah looping berakhir.\n",
    "\n",
    "for genap in numbers:\n",
    "    if genap % 2 == 0:\n",
    "        print(genap)\n",
    "        if genap == 918:\n",
    "            break\n",
    "\n",
    "print('-'*5)\n",
    "print('done')"
   ]
  }
 ],
 "metadata": {
  "kernelspec": {
   "display_name": "Python 3.9.12 ('base')",
   "language": "python",
   "name": "python3"
  },
  "language_info": {
   "codemirror_mode": {
    "name": "ipython",
    "version": 3
   },
   "file_extension": ".py",
   "mimetype": "text/x-python",
   "name": "python",
   "nbconvert_exporter": "python",
   "pygments_lexer": "ipython3",
   "version": "3.9.12"
  },
  "orig_nbformat": 4,
  "vscode": {
   "interpreter": {
    "hash": "ad2bdc8ecc057115af97d19610ffacc2b4e99fae6737bb82f5d7fb13d2f2c186"
   }
  }
 },
 "nbformat": 4,
 "nbformat_minor": 2
}
