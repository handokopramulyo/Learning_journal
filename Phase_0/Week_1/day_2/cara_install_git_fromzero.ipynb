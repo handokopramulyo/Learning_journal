{
 "cells": [
  {
   "cell_type": "code",
   "execution_count": null,
   "metadata": {},
   "outputs": [],
   "source": [
    "#================== SETTING GIT\n",
    "# yang pertama install git guys (VCS oke bgt tuk coding upload dam code versi yg byk)...\n",
    "# klo github rekomen kita login via browser meski ada versi desktopnya...\n",
    "# okeee, make sure semua tahap install git aman default\n",
    "# paling notenya: make sure editor yg kepilihnya VBS, that's it\n",
    "\n",
    "# 1. langsung buka cmd\n",
    "# Ketik\n",
    "\n",
    "#### git (tunggu sampe dpt balikan)\n",
    "#### git config --global user.name \"Handoko Pramulyo\" (tak perlu sesuai dengan akun github)\n",
    "#### git config --global user.email handoko.pramulyo.14@gmail.com\n",
    "#### git config --list (make sure nama sama email udah masuk)\n",
    "#### ssh-keygen (setting sshkeygen tuk bypass email dan password ke github)\n",
    "\n",
    "# Enter2 aja terus sampe keluar generate barcode\n",
    "\n",
    "# 2. Go ke explorer,\n",
    "# masuk ke user, namaPC, masuk ke folder .ssh\n",
    "# Buka file tipe publisher pake sublime\n",
    "# Copy semua kode yg ada di file id_rsa\n",
    "\n",
    "# 3. Open Github online via browser\n",
    "# masuk ke setting --> SSH and GPG keys\n",
    "# New SSH key dan paste ssh-keygen dari file id_rsa sebelumnya\n",
    "# klik add SSH key"
   ]
  }
 ],
 "metadata": {
  "kernelspec": {
   "display_name": "Python 3.9.12 ('base')",
   "language": "python",
   "name": "python3"
  },
  "language_info": {
   "name": "python",
   "version": "3.9.12"
  },
  "orig_nbformat": 4,
  "vscode": {
   "interpreter": {
    "hash": "ad2bdc8ecc057115af97d19610ffacc2b4e99fae6737bb82f5d7fb13d2f2c186"
   }
  }
 },
 "nbformat": 4,
 "nbformat_minor": 2
}
